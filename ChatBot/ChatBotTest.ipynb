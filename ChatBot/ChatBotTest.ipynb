{
 "cells": [
  {
   "cell_type": "code",
   "execution_count": 33,
   "id": "c9893fda",
   "metadata": {},
   "outputs": [
    {
     "name": "stdout",
     "output_type": "stream",
     "text": [
      " * Serving Flask app '__main__'\n",
      " * Debug mode: off\n"
     ]
    },
    {
     "name": "stderr",
     "output_type": "stream",
     "text": [
      "WARNING: This is a development server. Do not use it in a production deployment. Use a production WSGI server instead.\n",
      " * Running on http://127.0.0.1:5000\n",
      "Press CTRL+C to quit\n",
      "127.0.0.1 - - [27/Jun/2023 17:11:35] \"OPTIONS /chatbot HTTP/1.1\" 200 -\n",
      "127.0.0.1 - - [27/Jun/2023 17:11:35] \"POST /chatbot HTTP/1.1\" 200 -\n",
      "127.0.0.1 - - [27/Jun/2023 17:11:42] \"OPTIONS /chatbot HTTP/1.1\" 200 -\n",
      "127.0.0.1 - - [27/Jun/2023 17:11:42] \"POST /chatbot HTTP/1.1\" 200 -\n"
     ]
    }
   ],
   "source": [
    "from pyowm import OWM\n",
    "import requests\n",
    "import random\n",
    "import re\n",
    "from flask import Flask, request, jsonify\n",
    "from flask_cors import CORS, cross_origin\n",
    "\n",
    "def getLink(link):\n",
    "    response = requests.get(link)\n",
    "    return response.url\n",
    "\n",
    "\n",
    "def getTemp():\n",
    "    owm = OWM('9b86683eb9873777046595f152f8f21e')\n",
    "\n",
    "    mgr = owm.weather_manager()\n",
    "    observation = mgr.weather_at_place('Seattle,USA')\n",
    "    weather = observation.weather\n",
    "\n",
    "    temp = weather.temperature('celsius')\n",
    "    return \"It currently feels like \" + str(temp['feels_like']) + \" degrees celsius, but it's actually \" + str(temp['temp']) + \" degrees celsius right now\"\n",
    "\n",
    "\n",
    "\n",
    "app = Flask(__name__)\n",
    "CORS(app)\n",
    " \n",
    "\n",
    "# Dictionary of bot responses based on user input patterns\n",
    "bot_responses = {\n",
    "    r\"hi|hello|hey\": [\"Hello!\", \"Hi there!\", \"Hey!\"],\n",
    "    r\"how are you.*\": [\"I'm doing well, thank you!\", \"I'm great! How about you?\"],\n",
    "    r\"what.*your name\": [\"You can call me ChatBot.\", \"I'm ChatBot, nice to meet you!\"],\n",
    "    r\"bye|goodbye\": [\"Goodbye! Have a great day!\", \"Farewell! Take care!\"],\n",
    "    r\"tell me a joke\": [\"Why don't scientists trust atoms? Because they make up everything!\"],\n",
    "    r\"were you created|were you made\" : [\"I was created on June 8, 2023\", \"I was created in June\"],\n",
    "    r\"can you.*math\": [\"I currently cannot do math, however here is the link to a reputable website: \" + getLink(\"https://tinyurl.com/calculatorHelpDesk\")],\n",
    "    r\"weather\" : [getTemp()],\n",
    "    r\"help me\" : [\"I sure can!\", \"Definitely! What may I assist you with today?\"],\n",
    "    r\"customer service\" : [\"Thank you! I am connecting you with a customer service agent\"],\n",
    "    r\"about aditi\" : [\"Sure, here is a link to our about page: \" + getLink(\"https://www.aditiconsulting.com/culture\")],\n",
    "    r\".*\": [\"I'm sorry, I don't have a response for that.\", \"I'm still learning. Can you ask something else?\"]     \n",
    "}\n",
    "\n",
    " \n",
    "\n",
    "# Function to select a random response from a list\n",
    "def get_random_response(responses):\n",
    "    return random.choice(responses)\n",
    "\n",
    " \n",
    "\n",
    "@app.route('/chatbot', methods=['POST'])\n",
    "def chatbot_response():\n",
    "    user_input = request.json['user_input']\n",
    "\n",
    "    matched_response = None\n",
    "    for pattern, responses in bot_responses.items():\n",
    "        if re.search(pattern, user_input, re.IGNORECASE):\n",
    "            matched_response = get_random_response(responses)\n",
    "            break\n",
    "\n",
    "    return jsonify({'response': matched_response or \"I'm sorry, I don't understand.\"})\n",
    "\n",
    "if __name__ == '__main__':\n",
    "    app.run(debug=False)"
   ]
  },
  {
   "cell_type": "code",
   "execution_count": 30,
   "id": "bedfed50",
   "metadata": {},
   "outputs": [
    {
     "name": "stdout",
     "output_type": "stream",
     "text": [
      "https://api.github.com/\n"
     ]
    }
   ],
   "source": []
  },
  {
   "cell_type": "code",
   "execution_count": null,
   "id": "8f97a24b",
   "metadata": {},
   "outputs": [],
   "source": []
  }
 ],
 "metadata": {
  "kernelspec": {
   "display_name": "Python 3 (ipykernel)",
   "language": "python",
   "name": "python3"
  },
  "language_info": {
   "codemirror_mode": {
    "name": "ipython",
    "version": 3
   },
   "file_extension": ".py",
   "mimetype": "text/x-python",
   "name": "python",
   "nbconvert_exporter": "python",
   "pygments_lexer": "ipython3",
   "version": "3.11.3"
  }
 },
 "nbformat": 4,
 "nbformat_minor": 5
}
