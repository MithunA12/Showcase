{
 "cells": [
  {
   "cell_type": "code",
   "execution_count": 1,
   "id": "32089ac1",
   "metadata": {},
   "outputs": [],
   "source": [
    "import re\n",
    "userHelp = input(\"Do you need help? True or False\")\n",
    "test = {\"What's the weather?\": \"It is sunny\", \"How do I turn on laptop?\":\"I don't know\"}\n",
    "int = 0\n",
    "if userHelp == \"True\":\n",
    "\n",
    "    while userHelp == \"True\":\n",
    "    \n",
    "        userInput = input(\"What's your question? \")\n",
    "        print(test[userInput])\n",
    "        userHelp = input(\"Do you still need help? True or False\")\n",
    "        \n",
    "\n"
   ]
  },
  {
   "cell_type": "code",
   "execution_count": 2,
   "id": "c044fd43",
   "metadata": {},
   "outputs": [
    {
     "name": "stdout",
     "output_type": "stream",
     "text": [
      "Goodbye! Have a nice day!\n",
      "I'm sorry, I didn't understand that.\n",
      "I'm sorry, I didn't understand that.\n",
      "I'm sorry, I didn't understand that.\n",
      "I'm sorry, I didn't understand that.\n",
      "I'm sorry, I didn't understand that.\n",
      "I'm sorry, I didn't understand that.\n",
      "I'm sorry, I didn't understand that.\n",
      "I'm sorry, I didn't understand that.\n",
      "Goodbye! Have a nice day!\n",
      "I'm sorry, I didn't understand that.\n",
      "I'm sorry, I didn't understand that.\n",
      "I'm sorry, I didn't understand that.\n",
      "I'm sorry, I didn't understand that.\n",
      "I'm sorry, I didn't understand that.\n"
     ]
    }
   ],
   "source": [
    "import random\n",
    "\n",
    "\n",
    "def greet():\n",
    "    greetings = [\"Hello!\", \"Hi!\", \"Hey there!\", \"Greetings!\"]\n",
    "    return random.choice(greetings)\n",
    "\n",
    " \n",
    "\n",
    "# Function to handle user's input\n",
    "def process_input(user_input):\n",
    "    if \"hello\" in user_input.lower() or \"hi\" in user_input.lower():\n",
    "        return greet()\n",
    "    elif \"bye\" in user_input.lower() or \"goodbye\" in user_input.lower():\n",
    "        return \"Goodbye! Have a nice day!\"\n",
    "    elif \"mithun\" in user_input.lower() or \"i am mithun\" in user_input.lower():\n",
    "        return \"Have a nice day, Mithun!\"\n",
    "    else:\n",
    "        return \"I'm sorry, I didn't understand that.\"\n",
    "\n",
    " \n",
    "\n",
    "# Main loop\n",
    "while True:\n",
    "    user_input = input(\"How can I assist you? \")\n",
    "    response = process_input(user_input)\n",
    "    print(response)"
   ]
  },
  {
   "cell_type": "code",
   "execution_count": null,
   "id": "2c50a151",
   "metadata": {},
   "outputs": [
    {
     "name": "stdout",
     "output_type": "stream",
     "text": [
      "None\n",
      "None\n",
      "{'hi': 'Hello', 'mithun': 'Have a nice day, Mithun!', 'weather': \"It's sunny outside\", 'bye': 'goodbye'}\n"
     ]
    }
   ],
   "source": [
    "greetings = {\n",
    "    \"hi\" : \"Hello\",\n",
    "    \"mithun\" : \"Have a nice day, Mithun!\",\n",
    "    \"weather\" : \"It's sunny outside\",\n",
    "    \"bye\" : \"goodbye\"\n",
    "}\n",
    "\n",
    "test = greetings.get(\"greeting\")\n",
    "print(test)\n",
    "print(greetings.get(\"hello\"))\n",
    "print(greetings)"
   ]
  },
  {
   "cell_type": "code",
   "execution_count": null,
   "id": "e4795e0c",
   "metadata": {},
   "outputs": [],
   "source": [
    "def create_response(user_input):\n",
    "\n",
    "    if greetings.get(user_input.lower()) == None:\n",
    "        return \"I'm sorry, I didn't understand that.\"\n",
    "    return greetings.get(user_input.lower())\n",
    "        "
   ]
  },
  {
   "cell_type": "code",
   "execution_count": null,
   "id": "b9da138c",
   "metadata": {},
   "outputs": [
    {
     "ename": "SyntaxError",
     "evalue": "invalid syntax. Perhaps you forgot a comma? (3186567938.py, line 3)",
     "output_type": "error",
     "traceback": [
      "\u001b[1;36m  Cell \u001b[1;32mIn[21], line 3\u001b[1;36m\u001b[0m\n\u001b[1;33m    if re.search(\"^\"greeting, user_input.lower()) != None:\u001b[0m\n\u001b[1;37m                 ^\u001b[0m\n\u001b[1;31mSyntaxError\u001b[0m\u001b[1;31m:\u001b[0m invalid syntax. Perhaps you forgot a comma?\n"
     ]
    }
   ],
   "source": [
    "def create_multi_response(user_input):\n",
    "    for greeting in greetings:\n",
    "        if re.search(greeting, user_input.lower()) != None:\n",
    "            print(greetings.get(greeting))"
   ]
  },
  {
   "cell_type": "code",
   "execution_count": null,
   "id": "22fad711",
   "metadata": {},
   "outputs": [
    {
     "name": "stdout",
     "output_type": "stream",
     "text": [
      "Hello\n",
      "Have a nice day, Mithun!\n",
      "None\n"
     ]
    }
   ],
   "source": []
  },
  {
   "cell_type": "code",
   "execution_count": null,
   "id": "cc66dffa",
   "metadata": {},
   "outputs": [
    {
     "name": "stdout",
     "output_type": "stream",
     "text": [
      "YES! We have a match!\n"
     ]
    }
   ],
   "source": []
  },
  {
   "cell_type": "code",
   "execution_count": null,
   "id": "34e8fa16",
   "metadata": {},
   "outputs": [
    {
     "name": "stdout",
     "output_type": "stream",
     "text": [
      "YES! We have a match!\n",
      "YES! We have a match!\n"
     ]
    }
   ],
   "source": [
    "text2 = \"Hi, what's the weather like today?\"\n",
    "text3 = \"bye Mithun\"\n",
    "pattern = re.search(\"^Hi.*weather\", text2)\n",
    "\n",
    "if pattern:\n",
    "  print(\"YES! We have a match!\")\n",
    "else:\n",
    "  print(\"No match\")\n",
    "\n",
    "pattern2 = re.search(\"bye.*Mithun$\", text3)\n",
    "\n",
    "if pattern2:\n",
    "  print(\"YES! We have a match!\")\n",
    "else:\n",
    "  print(\"No match\")"
   ]
  },
  {
   "cell_type": "code",
   "execution_count": 4,
   "id": "c9893fda",
   "metadata": {},
   "outputs": [
    {
     "name": "stdout",
     "output_type": "stream",
     "text": [
      " * Serving Flask app '__main__'\n",
      " * Debug mode: off\n"
     ]
    },
    {
     "name": "stderr",
     "output_type": "stream",
     "text": [
      "WARNING: This is a development server. Do not use it in a production deployment. Use a production WSGI server instead.\n",
      " * Running on http://127.0.0.1:5000\n",
      "Press CTRL+C to quit\n"
     ]
    }
   ],
   "source": [
    "import random\n",
    "import re\n",
    "from flask import Flask, request, jsonify\n",
    "from flask_cors import CORS, cross_origin\n",
    "\n",
    "app = Flask(__name__)\n",
    "CORS(app)\n",
    " \n",
    "\n",
    "# Dictionary of bot responses based on user input patterns\n",
    "bot_responses = {\n",
    "    r\"hi|hello|hey\": [\"Hello!\", \"Hi there!\", \"Hey!\"],\n",
    "    r\"how are you.*\": [\"I'm doing well, thank you!\", \"I'm great! How about you?\"],\n",
    "    r\"what.*your name\": [\"You can call me ChatBot.\", \"I'm ChatBot, nice to meet you!\"],\n",
    "    r\"bye|goodbye\": [\"Goodbye! Have a great day!\", \"Farewell! Take care!\"],\n",
    "    r\"tell me a joke\": [\"Why don't scientists trust atoms? Because they make up everything!\"],\n",
    "    r\"were you created|were you made\" : [\"I was created on June 8, 2023\", \"I was created in June\"],\n",
    "    r\"can you.*math\": [\"I currently cannot do math\", \"I don't have the ability to do calculations yet\"],\n",
    "    r\"weather\" : [\"It is 75 degrees Farenheit today\", \"It is partly cloudy\", \"It is very sunny outside\"],\n",
    "    r\"help me\" : [\"I sure can!\", \"Definitely! What may I assist you with today?\"],\n",
    "    r\"customer service\" : [\"Thank you! I am connecting you with a customer service agent\"],\n",
    "    r\".*\": [\"I'm sorry, I don't have a response for that.\", \"I'm still learning. Can you ask something else?\"],       \n",
    "}\n",
    "\n",
    " \n",
    "\n",
    "# Function to select a random response from a list\n",
    "def get_random_response(responses):\n",
    "    return random.choice(responses)\n",
    "\n",
    " \n",
    "\n",
    "@app.route('/chatbot', methods=['POST'])\n",
    "def chatbot_response():\n",
    "    user_input = request.json['user_input']\n",
    "\n",
    "    matched_response = None\n",
    "    for pattern, responses in bot_responses.items():\n",
    "        if re.search(pattern, user_input, re.IGNORECASE):\n",
    "            matched_response = get_random_response(responses)\n",
    "            break\n",
    "\n",
    "    return jsonify({'response': matched_response or \"I'm sorry, I don't understand.\"})\n",
    "\n",
    "if __name__ == '__main__':\n",
    "    app.run(debug=False)"
   ]
  },
  {
   "cell_type": "code",
   "execution_count": null,
   "id": "6d4a638e",
   "metadata": {},
   "outputs": [],
   "source": []
  }
 ],
 "metadata": {
  "kernelspec": {
   "display_name": "Python 3 (ipykernel)",
   "language": "python",
   "name": "python3"
  },
  "language_info": {
   "codemirror_mode": {
    "name": "ipython",
    "version": 3
   },
   "file_extension": ".py",
   "mimetype": "text/x-python",
   "name": "python",
   "nbconvert_exporter": "python",
   "pygments_lexer": "ipython3",
   "version": "3.11.3"
  }
 },
 "nbformat": 4,
 "nbformat_minor": 5
}
