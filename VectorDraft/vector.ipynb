{
 "cells": [
  {
   "cell_type": "code",
   "execution_count": 20,
   "metadata": {},
   "outputs": [],
   "source": [
    "import math\n",
    "\n",
    "def calculate_displacement(v1, v2, v3, v4, v5):\n",
    "    vectors = [v1, v2, v3, v4, v5]\n",
    "    \n",
    "    total_x = 0\n",
    "    total_y = 0\n",
    "    \n",
    "    for vector in vectors:\n",
    "        magnitude, angle_degrees = vector\n",
    "        angle_radians = math.radians(angle_degrees)\n",
    "        \n",
    "        # Convert polar coordinates to Cartesian coordinates\n",
    "        x_component = magnitude * math.cos(angle_radians)\n",
    "        y_component = magnitude * math.sin(angle_radians)\n",
    "        \n",
    "        total_x += x_component\n",
    "        total_y += y_component\n",
    "    \n",
    "    # Calculate the magnitude of the resultant displacement (distance from origin)\n",
    "    resultant_displacement = math.sqrt(total_x**2 + total_y**2)\n",
    "    \n",
    "    return resultant_displacement"
   ]
  },
  {
   "cell_type": "code",
   "execution_count": 19,
   "metadata": {},
   "outputs": [],
   "source": [
    "def pick_vectors(draft_vectors):\n",
    "    best_displacement = float('inf')\n",
    "    bv1, bv2, bv3, bv4, bv5 = (10,30), (20,-90), None, None, None\n",
    "\n",
    "    for j, v3 in draft_vectors.items():\n",
    "        for h, v4 in draft_vectors.items():\n",
    "            if h != j:\n",
    "                for m, v5 in draft_vectors.items():\n",
    "                    if m != j and m != h:\n",
    "                        current_displacement = calculate_displacement(bv1, bv2, v3, v4, v5)\n",
    "                        if current_displacement < best_displacement:\n",
    "                            best_displacement = current_displacement\n",
    "                            bv3, bv4, bv5 = v3, v4, v5\n",
    "    \n",
    "    return bv1, bv2, bv3, bv4, bv5\n"
   ]
  },
  {
   "cell_type": "code",
   "execution_count": 27,
   "metadata": {},
   "outputs": [
    {
     "name": "stdout",
     "output_type": "stream",
     "text": [
      "((10, 30), (20, -90), (12, 60), (6, 60), (18, 180))\n"
     ]
    }
   ],
   "source": [
    "# Example vectors in the format (magnitude, angle)\n",
    "vectors = {\n",
    "    1:(20, 45), 2:(30, -60), 3:(40, -30), 4:(50, -45), 5:(10, -30),\n",
    "    6:(15, -45), 7:(20, 60), 8:(1, 30), 9:(2, -45), 10:(3, 60),\n",
    "    11:(5, 45), 12:(21, -60), 13:(23, -45), 14:(5, -30), 15:(15, -45),\n",
    "    16:(25, 60), 17:(35, 30), 18:(45, -45), 19:(55, 60), 20:(10, 30),\n",
    "    21:(11, -45), 22:(12, 60), 23:(13, -30), 24:(14, 45), 25:(15, -60),\n",
    "    26:(31, 30), 27:(32, -45), 28:(33, -60), 29:(34, 30), 30:(35, -45),\n",
    "    31:(36, 60), 32:(2, 30), 33:(4, -45), 34:(6, 60), 35:(8, 30),\n",
    "    36:(10, -45), 37:(13, 60), 38:(10, 180), 39:(15, 90), 40:(20, 0),\n",
    "    41:(5, 270), 42:(16, 0), 43:(20, 180), 44:(8, 90), 45:(6, 0),\n",
    "    46:(18, 180)\n",
    "}\n",
    "# resultant_displacement = calculate_displacement(vectors)\n",
    "# print(\"Resultant Displacement:\", resultant_displacement)\n",
    "print(pick_vectors(vectors))\n"
   ]
  }
 ],
 "metadata": {
  "kernelspec": {
   "display_name": "Python 3",
   "language": "python",
   "name": "python3"
  },
  "language_info": {
   "codemirror_mode": {
    "name": "ipython",
    "version": 3
   },
   "file_extension": ".py",
   "mimetype": "text/x-python",
   "name": "python",
   "nbconvert_exporter": "python",
   "pygments_lexer": "ipython3",
   "version": "3.11.3"
  },
  "orig_nbformat": 4
 },
 "nbformat": 4,
 "nbformat_minor": 2
}
